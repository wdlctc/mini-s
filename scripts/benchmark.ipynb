{
 "cells": [
  {
   "cell_type": "code",
   "execution_count": null,
   "id": "64ae2bf8-32a6-496e-bdc8-94c866146c75",
   "metadata": {},
   "outputs": [],
   "source": [
    "import torch\n",
    "import os\n",
    "import time\n",
    "\n",
    "from transformers import AutoTokenizer, AutoModelForCausalLM\n",
    "from torch.optim import AdamW\n",
    "\n",
    "name_or_path = \"meta-llama/Meta-Llama-3-8B\"\n",
    "model = AutoModelForCausalLM.from_pretrained(name_or_path,\n",
    "        _attn_implementation=\"flash_attention_2\",\n",
    "        torch_dtype=torch.bfloat16,\n",
    "        trust_remote_code=True,\n",
    "    ).cuda()\n",
    "model.train()\n",
    "\n",
    "optimizer = AdamW(model.parameters(), lr=5e-5)\n",
    "\n",
    "SEQ_LEN = 8192\n",
    "input_ids = torch.randint(low=3, high=10000, size=(1, SEQ_LEN), device=\"cuda\")\n",
    "\n",
    "torch.cuda.synchronize()\n",
    "t1 = time.perf_counter()\n",
    "for _ in range(3):\n",
    "    loss = model(input_ids=input_ids, labels=input_ids).loss\n",
    "    loss.backward()\n",
    "    optimizer.step()\n",
    "    optimizer.zero_grad()\n",
    "torch.cuda.synchronize()\n",
    "t2 = time.perf_counter()\n",
    "print(\"Pretrains throughput {} token/s\".format((SEQ_LEN/((t2 - t1)/3))))\n",
    "\n",
    "\n",
    "print(\n",
    "    \"Peak allocated bytes on {:4f}GB\".format(\n",
    "        torch.cuda.memory_stats(0)[\"allocated_bytes.all.peak\"] / 2**30\n",
    "    )\n",
    ")\n"
   ]
  }
 ],
 "metadata": {
  "kernelspec": {
   "display_name": "Python 3 (ipykernel)",
   "language": "python",
   "name": "python3"
  },
  "language_info": {
   "codemirror_mode": {
    "name": "ipython",
    "version": 3
   },
   "file_extension": ".py",
   "mimetype": "text/x-python",
   "name": "python",
   "nbconvert_exporter": "python",
   "pygments_lexer": "ipython3",
   "version": "3.10.13"
  }
 },
 "nbformat": 4,
 "nbformat_minor": 5
}
