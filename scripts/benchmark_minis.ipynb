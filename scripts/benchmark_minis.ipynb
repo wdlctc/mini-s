{
 "cells": [
  {
   "cell_type": "code",
   "execution_count": 1,
   "id": "64ae2bf8-32a6-496e-bdc8-94c866146c75",
   "metadata": {},
   "outputs": [
    {
     "name": "stderr",
     "output_type": "stream",
     "text": [
      "You are attempting to use Flash Attention 2.0 with a model not initialized on GPU. Make sure to move the model to GPU after initializing it on CPU with `model.to('cuda')`.\n"
     ]
    },
    {
     "data": {
      "application/vnd.jupyter.widget-view+json": {
       "model_id": "d5218fc028314e2f92537c69f2180390",
       "version_major": 2,
       "version_minor": 0
      },
      "text/plain": [
       "Loading checkpoint shards:   0%|          | 0/4 [00:00<?, ?it/s]"
      ]
     },
     "metadata": {},
     "output_type": "display_data"
    },
    {
     "name": "stderr",
     "output_type": "stream",
     "text": [
      "`use_cache=True` is incompatible with gradient checkpointing. Setting `use_cache=False`.\n"
     ]
    },
    {
     "name": "stdout",
     "output_type": "stream",
     "text": [
      "Pretrains throughput 2251.778763168668 token/s\n",
      "Peak allocated bytes on 74.807488GB\n"
     ]
    }
   ],
   "source": [
    "import torch\n",
    "import os\n",
    "import time\n",
    "\n",
    "from transformers import AutoTokenizer, AutoModelForCausalLM\n",
    "from torch.optim import AdamW\n",
    "from minis.mini_sequence import minisequence\n",
    "\n",
    "name_or_path = \"meta-llama/Meta-Llama-3-8B\"\n",
    "model = AutoModelForCausalLM.from_pretrained(name_or_path,\n",
    "        _attn_implementation=\"flash_attention_2\",\n",
    "        torch_dtype=torch.bfloat16,\n",
    "        trust_remote_code=True,\n",
    "    ).cuda()\n",
    "model.train()\n",
    "model = minisequence(model)\n",
    "\n",
    "optimizer = AdamW(model.parameters(), lr=5e-5)\n",
    "\n",
    "SEQ_LEN = 8192\n",
    "input_ids = torch.randint(low=3, high=10000, size=(1, SEQ_LEN), device=\"cuda\")\n",
    "\n",
    "torch.cuda.synchronize()\n",
    "t1 = time.perf_counter()\n",
    "for _ in range(3):\n",
    "    loss = model(input_ids=input_ids, labels=input_ids).loss\n",
    "    loss.backward()\n",
    "    optimizer.step()\n",
    "    optimizer.zero_grad()\n",
    "torch.cuda.synchronize()\n",
    "t2 = time.perf_counter()\n",
    "print(\"Pretrains throughput {} token/s\".format((SEQ_LEN/((t2 - t1)/3))))\n",
    "\n",
    "\n",
    "print(\n",
    "    \"Peak allocated bytes on {:4f}GB\".format(\n",
    "        torch.cuda.memory_stats(0)[\"allocated_bytes.all.peak\"] / 2**30\n",
    "    )\n",
    ")\n"
   ]
  },
  {
   "cell_type": "code",
   "execution_count": null,
   "id": "a347ad94-4eb0-435e-b184-306a536d895b",
   "metadata": {},
   "outputs": [],
   "source": []
  },
  {
   "cell_type": "code",
   "execution_count": null,
   "id": "03da691b-559f-47ae-8cec-2df03d8d7354",
   "metadata": {},
   "outputs": [],
   "source": []
  }
 ],
 "metadata": {
  "kernelspec": {
   "display_name": "Python 3 (ipykernel)",
   "language": "python",
   "name": "python3"
  },
  "language_info": {
   "codemirror_mode": {
    "name": "ipython",
    "version": 3
   },
   "file_extension": ".py",
   "mimetype": "text/x-python",
   "name": "python",
   "nbconvert_exporter": "python",
   "pygments_lexer": "ipython3",
   "version": "3.10.13"
  }
 },
 "nbformat": 4,
 "nbformat_minor": 5
}
